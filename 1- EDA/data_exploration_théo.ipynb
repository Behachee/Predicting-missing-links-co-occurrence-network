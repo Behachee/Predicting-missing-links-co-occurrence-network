{
 "cells": [
  {
   "cell_type": "markdown",
   "metadata": {},
   "source": [
    "# MLNS ASSIGNEMENT - MISSING LINK PREDICTION"
   ]
  },
  {
   "cell_type": "markdown",
   "metadata": {},
   "source": [
    "## I - INITIALISING ENVIRONMENT"
   ]
  },
  {
   "cell_type": "code",


   "execution_count": 1,

   "metadata": {},
   "outputs": [],
   "source": [
    "import numpy as np\n",
    "import csv\n",
    "import pandas as pd\n",
    "import networkx as nx\n",
    "import matplotlib.pyplot as plt\n",
    "import seaborn as sns"
   ]
  },
  {
   "cell_type": "code",
   "execution_count": 4,
   "metadata": {},
   "outputs": [
    {
     "name": "stdout",
     "output_type": "stream",
     "text": [
      "Nombre de nœuds : 3597\n",
      "Nombre de liens : 10496\n",
      "Degré moyen : 5.835974423130386\n"
     ]
    },
    {
     "data": {
      "image/png": "[encoded data removed]",
      "text/plain": [
       "<Figure size 1000x600 with 1 Axes>"
      ]
     },
     "metadata": {},
     "output_type": "display_data"
    },
    {
     "name": "stdout",
     "output_type": "stream",
     "text": [
      "Les 5 nœuds avec la plus grande centralité : [(3809, 0.10038932146829811), (6416, 0.014738598442714126), (7426, 0.01167964404894327), (7174, 0.010845383759733037), (7272, 0.010845383759733037)]\n",
      "Densité du réseau : 0.001622907236688094\n"
     ]
    }
   ],
   "source": [
    "# 1. Importer les bibliothèques nécessaires\n",
    "import pandas as pd\n",
    "import numpy as np\n",
    "import matplotlib.pyplot as plt\n",
    "import seaborn as sns\n",
    "from sklearn.preprocessing import StandardScaler\n",
    "import networkx as nx\n",
    "\n",
    "# 2. Charger les données\n",
    "node_info = pd.read_csv(\"../data/node_information.csv\", header=None)\n",
    "test_set = pd.read_csv(\"../data/test.txt\", sep=\" \", header=None, names=['source', 'target'])\n",
    "train_set = pd.read_csv(\"../data/train.txt\", sep=\" \", header=None, names=['source', 'target', 'label'])\n",
    "\n",
    "\n",
    "# Créer un graphe à partir du train_set\n",
    "G = nx.from_pandas_edgelist(train_set, 'source', 'target', 'label')\n",
    "\n",
    "# Nombre de nœuds\n",
    "print(\"Nombre de nœuds :\", G.number_of_nodes())\n",
    "\n",
    "# Nombre de liens\n",
    "print(\"Nombre de liens :\", G.number_of_edges())\n",
    "\n",
    "# Degré moyen\n",
    "## Dans un réseau, le degré d'un nœud est le nombre de liens qu'il a avec d'autres nœuds.\n",
    "degrees = [G.degree(n) for n in G.nodes()]\n",
    "print(\"Degré moyen :\", np.mean(degrees))\n",
    "\n",
    "# Distribution du degré\n",
    "plt.figure(figsize=(10,6))\n",
    "plt.title(\"Distribution du degré\")\n",
    "plt.hist(degrees, bins=50)\n",
    "plt.show()\n",
    "\n",
    "# Centralité\n",
    "## La centralité d'un nœud mesure son importance relative au sein du réseau. \n",
    "##Il existe plusieurs mesures de centralité, dont la centralité de degré (nombre de liens vers un nœud), \n",
    "##la centralité de proximité (inverse de la somme des distances à tous les autres nœuds), et \n",
    "##la centralité d'intermédiarité (nombre de fois qu'un nœud agit comme un pont le long du chemin le plus court entre deux autres nœuds).\n",
    "centrality = nx.degree_centrality(G)\n",
    "sorted_centrality = sorted(centrality.items(), key=lambda x: x[1], reverse=True)\n",
    "print(\"Les 5 nœuds avec la plus grande centralité :\", sorted_centrality[:5])\n",
    "\n",
    "# Densité du réseau\n",
    "## La densité d'un réseau est le rapport entre le nombre de liens réels dans le réseau et le nombre de liens possibles.\n",
    "print(\"Densité du réseau :\", nx.density(G))"
   ]
  },
  {
   "cell_type": "code",
   "execution_count": 9,
   "metadata": {},
   "outputs": [
    {
     "name": "stdout",
     "output_type": "stream",
     "text": [
      "Warning: When  cdn_resources is 'local' jupyter notebook has issues displaying graphics on chrome/safari. Use cdn_resources='in_line' or cdn_resources='remote' if you have issues viewing graphics in a notebook.\n",
      "graph.html\n"
     ]
    },
    {
     "data": {
      "text/html": [
       "\n",
       "        <iframe\n",
       "            width=\"100%\"\n",
       "            height=\"600px\"\n",
       "            src=\"graph.html\"\n",
       "            frameborder=\"0\"\n",
       "            allowfullscreen\n",
       "            \n",
       "        ></iframe>\n",
       "        "
      ],
      "text/plain": [
       "<IPython.lib.display.IFrame at 0x28326bc10>"
      ]
     },
     "execution_count": 9,
     "metadata": {},
     "output_type": "execute_result"
    }
   ],
   "source": [
    "# Importer les bibliothèques nécessaires\n",
    "from pyvis.network import Network\n",
    "import networkx as nx\n",
    "\n",
    "# Créer un graphe à partir du train_set\n",
    "G = nx.from_pandas_edgelist(train_set, 'source', 'target', 'label')\n",
    "\n",
    "# Créer une visualisation interactive\n",
    "net = Network(notebook=True)\n",
    "net.from_nx(G)\n",
    "net.show(\"graph.html\")"
   ]
  },
  {
   "cell_type": "code",
   "execution_count": null,
   "metadata": {},
   "outputs": [],
   "source": []
  }
 ],
 "metadata": {
  "kernelspec": {
   "display_name": "base",
   "language": "python",
   "name": "python3"
  },
  "language_info": {
   "codemirror_mode": {
    "name": "ipython",
    "version": 3
   },
   "file_extension": ".py",
   "mimetype": "text/x-python",
   "name": "python",
   "nbconvert_exporter": "python",
   "pygments_lexer": "ipython3",
   "version": "3.9.6"
  }
 },
 "nbformat": 4,
 "nbformat_minor": 2
}
