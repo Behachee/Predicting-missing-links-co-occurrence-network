{
 "cells": [
  {
   "cell_type": "code",
   "execution_count": 2,
   "metadata": {},
   "outputs": [],
   "source": [
    "import numpy as np\n",
    "import csv\n",
    "\n",
    "###################\n",
    "# random baseline #\n",
    "###################\n",
    "\n",
    "# Load test samples \n",
    "with open(\"test.txt\", \"r\") as f:\n",
    "    reader = csv.reader(f)\n",
    "    test_set = list(reader)\n",
    "test_set = [element[0].split(\" \") for element in test_set]\n",
    "\n",
    "# Make random predictions\n",
    "random_predictions = np.random.choice([0, 1], size=len(test_set))\n",
    "random_pred = zip(np.array(range(len(test_set))), random_predictions)\n",
    "\n",
    "# note: Kaggle requires that you add \"ID\" and \"category\" column headers\n",
    "\n",
    "with open(\"random_predictions.csv\",\"w\") as pred:\n",
    "    csv_out = csv.writer(pred)\n",
    "    csv_out.writerow(i for i in [\"ID\", \"Predicted\"])\n",
    "    for row in random_pred:\n",
    "         csv_out.writerow(row)\n",
    "    pred.close()"
   ]
  }
 ],
 "metadata": {
  "kernelspec": {
   "display_name": "base",
   "language": "python",
   "name": "python3"
  },
  "language_info": {
   "codemirror_mode": {
    "name": "ipython",
    "version": 3
   },
   "file_extension": ".py",
   "mimetype": "text/x-python",
   "name": "python",
   "nbconvert_exporter": "python",
   "pygments_lexer": "ipython3",
   "version": "3.8.18"
  }
 },
 "nbformat": 4,
 "nbformat_minor": 2
}
