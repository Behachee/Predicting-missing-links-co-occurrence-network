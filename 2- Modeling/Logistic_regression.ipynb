{
 "cells": [
  {
   "cell_type": "markdown",
   "metadata": {},
   "source": [
    "# Import Libraries"
   ]
  },
  {
   "cell_type": "code",
   "execution_count": null,
   "metadata": {},
   "outputs": [],
   "source": [
    "import numpy as np\n",
    "import csv\n",
    "import pandas as pd\n",
    "import networkx as nx\n",
    "import matplotlib.pyplot as plt\n",
    "import seaborn as sns\n",
    "from sklearn.metrics import accuracy_score\n",
    "from sklearn.metrics import roc_auc_score\n",
    "\n",
    "from torch_geometric.data import Data\n",
    "import torch\n",
    "import torch.nn as nn\n",
    "import dgl\n",
    "from dgl.nn import GraphConv\n",
    "import torch.nn.functional as F\n",
    "\n",
    "from sklearn.linear_model import LogisticRegression\n",
    "from sklearn.metrics import roc_curve, auc\n",
    "\n",
    "from torch_geometric.nn import GCNConv\n",
    "from xgboost import XGBClassifier"
   ]
  },
  {
   "cell_type": "markdown",
   "metadata": {},
   "source": [
    "# Import Dataset"
   ]
  },
  {
   "cell_type": "code",
   "execution_count": null,
   "metadata": {},
   "outputs": [],
   "source": [
    "node_info = pd.read_csv(\"../data/node_information.csv\", header=None, index_col=0)\n",
    "\n",
    "test_set_final = pd.read_csv(\"../data/test_set_final.csv\")\n",
    "train_set_final = pd.read_csv(\"../data/train_set_final.csv\")"
   ]
  },
  {
   "cell_type": "markdown",
   "metadata": {},
   "source": [
    "# Logistic Regression"
   ]
  },
  {
   "cell_type": "code",
   "execution_count": null,
   "metadata": {},
   "outputs": [],
   "source": [
    "def edge_prediction(train_set, plot_roc=True):\n",
    "    # Splitting the dataset into training and testing\n",
    "    # This is a conceptual split. You might want to use a more sophisticated approach\n",
    "    # such as cross-validation for a more robust evaluation\n",
    "    msk = np.random.rand(len(train_set)) < 0.95\n",
    "    train_samples = train_set[msk]\n",
    "    test_samples = train_set[~msk]\n",
    "\n",
    "    # Preparing features and labels\n",
    "    train_features = train_samples[['cosine_similarity', 'common_neighbors', 'degree_source', 'degree_target','jaccard']].values\n",
    "    test_features = test_samples[['cosine_similarity', 'common_neighbors', 'degree_source', 'degree_target','jaccard']].values\n",
    "    train_labels = train_samples['label'].values\n",
    "    test_labels = test_samples['label'].values\n",
    "    \n",
    "    # --- Build the model and train it ---\n",
    "    clf = LogisticRegression(max_iter=1000)\n",
    "    clf.fit(train_features, train_labels)\n",
    "\n",
    "    train_preds = clf.predict_proba(train_features)[:, 1]\n",
    "    test_preds = clf.predict_proba(test_features)[:, 1]\n",
    "    \n",
    "    test_preds_values = clf.predict(test_features)\n",
    "    \n",
    "    test_accuracy = accuracy_score(test_labels, test_preds_values)\n",
    "\n",
    "    # --- Compute Area Under the Receiver Operating Characteristic Curve (ROC AUC) from predictions ---\n",
    "    fpr, tpr, thresholds = roc_curve(test_labels, test_preds)\n",
    "    roc_auc = auc(fpr, tpr)\n",
    "\n",
    "    if not plot_roc:\n",
    "        return roc_auc\n",
    "    \n",
    "    plt.figure(figsize=(6,6))\n",
    "    plt.plot(fpr, tpr, color='darkred', label='ROC curve (area = %0.3f)' % roc_auc)\n",
    "    plt.plot([0, 1], [0, 1], color='lightgray', linestyle='--')\n",
    "    plt.xlim([0.0, 1.0])\n",
    "    plt.ylim([0.0, 1.05])\n",
    "    plt.xlabel('False Positive Rate')\n",
    "    plt.ylabel('True Positive Rate')\n",
    "    plt.title('Receiver Operating Characteristic Curve')\n",
    "    plt.legend(loc=\"lower right\")\n",
    "    plt.show()\n",
    "    \n",
    "    return roc_auc, test_accuracy, clf"
   ]
  },
  {
   "cell_type": "code",
   "execution_count": null,
   "metadata": {},
   "outputs": [],
   "source": [
    "roc_auc, test_accuracy, clf = edge_prediction(train_set_final)\n",
    "\n",
    "print(test_accuracy)"
   ]
  },
  {
   "cell_type": "code",
   "execution_count": null,
   "metadata": {},
   "outputs": [],
   "source": [
    "test_features = test_set_final[['cosine_similarity', 'common_neighbors', 'degree_source', 'degree_target','jaccard']].values\n",
    "test_preds_values = clf.predict(test_features)\n",
    "test_preds_values = zip(np.array(range(len(test_set_final))), test_preds_values)\n",
    "test_preds_values"
   ]
  },
  {
   "cell_type": "code",
   "execution_count": null,
   "metadata": {},
   "outputs": [],
   "source": [
    "with open(\"../submission/LR_predictions.csv\",\"w\") as pred:\n",
    "    csv_out = csv.writer(pred)\n",
    "    csv_out.writerow(i for i in [\"ID\", \"Predicted\"])\n",
    "    for row in test_preds_values:\n",
    "         csv_out.writerow(row)\n",
    "    pred.close()"
   ]
  }
 ],
 "metadata": {
  "language_info": {
   "name": "python"
  }
 },
 "nbformat": 4,
 "nbformat_minor": 2
}
